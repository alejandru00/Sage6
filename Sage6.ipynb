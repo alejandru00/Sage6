{
 "cells": [
  {
   "cell_type": "code",
   "execution_count": 43,
   "metadata": {},
   "outputs": [
    {
     "name": "stdout",
     "output_type": "stream",
     "text": [
      "La media del intervalo es:  -18\n"
     ]
    }
   ],
   "source": [
    "#1: Genera una lista de 1000 enteros aleatorios en el intervalo [−100, 100] y calcula su media.\n",
    "\n",
    "from random import randint\n",
    "for i in range(1000):\n",
    "    m = [int(randint(-100, 100))]\n",
    "media = mean(m)\n",
    "print(\"La media del intervalo es: \", media)"
   ]
  },
  {
   "cell_type": "code",
   "execution_count": 41,
   "metadata": {},
   "outputs": [
    {
     "name": "stdout",
     "output_type": "stream",
     "text": [
      "Media:  65.625\n",
      "Moda:  [61, 73]\n",
      "Mediana:  63.500\n"
     ]
    }
   ],
   "source": [
    "#2: Las alturas de ocho estudiantes, medidas en pulgadas, son 71, 73, 59, 62, 65, 61, 73, 61. \n",
    "    #Calcula la media, la mediana y la moda de estas alturas.\n",
    "\n",
    "altura = [71, 73, 59, 62, 65, 61, 73, 61]\n",
    "\n",
    "media = n(mean(altura), digits = 5)\n",
    "print(\"Media: \", media)\n",
    "\n",
    "moda = mode(altura)\n",
    "print(\"Moda: \", moda)\n",
    "\n",
    "mediana = n(median(altura), digits = 5)\n",
    "print(\"Mediana: \", mediana)"
   ]
  },
  {
   "cell_type": "code",
   "execution_count": 42,
   "metadata": {},
   "outputs": [
    {
     "name": "stdout",
     "output_type": "stream",
     "text": [
      "Deviaciontipica:  5.8294\n",
      "Varianza:  33.982\n"
     ]
    }
   ],
   "source": [
    "#3: Usando los mismos datos, calcula la desviación típica y la varianza de las alturas de la muestra.\n",
    "\n",
    "deviaciontipica = n(std(altura), digits = 5)\n",
    "print(\"Deviaciontipica: \", deviaciontipica)\n",
    "\n",
    "varianza = n(variance(altura), digits = 5)\n",
    "print(\"Varianza: \", varianza)\n"
   ]
  },
  {
   "cell_type": "code",
   "execution_count": 44,
   "metadata": {},
   "outputs": [
    {
     "name": "stdout",
     "output_type": "stream",
     "text": [
      "Rango:  14\n"
     ]
    }
   ],
   "source": [
    "#4: Calcula el rango de la muestra de alturas anterior.\n",
    "\n",
    "print(\"Rango: \", max(altura) - min(altura))"
   ]
  }
 ],
 "metadata": {
  "kernelspec": {
   "display_name": "SageMath 9.3",
   "language": "sage",
   "name": "sagemath"
  },
  "language_info": {
   "codemirror_mode": {
    "name": "ipython",
    "version": 3
   },
   "file_extension": ".py",
   "mimetype": "text/x-python",
   "name": "python",
   "nbconvert_exporter": "python",
   "pygments_lexer": "ipython3",
   "version": "3.7.10"
  }
 },
 "nbformat": 4,
 "nbformat_minor": 4
}
